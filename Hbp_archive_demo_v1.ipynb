{
 "cells": [
  {
   "cell_type": "code",
   "execution_count": 1,
   "metadata": {},
   "outputs": [],
   "source": [
    "from hbp_archive import Container, PublicContainer, Project, Archive\n",
    "import os\n",
    "from pathlib import Path, PurePosixPath\n",
    "\n",
    "### Please see https://hbp-archive.readthedocs.io/en/latest/ for additional details"
   ]
  },
  {
   "cell_type": "code",
   "execution_count": 2,
   "metadata": {},
   "outputs": [
    {
     "name": "stdout",
     "output_type": "stream",
     "text": [
      "Please enter your CSCS password:\n"
     ]
    },
    {
     "name": "stdin",
     "output_type": "stream",
     "text": [
      "Password:  ············\n"
     ]
    }
   ],
   "source": [
    "CSCS_project = 'bp00sp01'  # <--- Put in your CSCS project\n",
    "user_name = 'bp000222'     # <--- Put in your CSCS user name\n",
    "\n",
    "print('Please enter your CSCS password:')\n",
    "SP_a = Project(CSCS_project, user_name)"
   ]
  },
  {
   "cell_type": "code",
   "execution_count": null,
   "metadata": {},
   "outputs": [],
   "source": [
    "user_container = 'test_container'    # <--- Specify the name of your container\n",
    "container = SP_a.get_container(user_container)\n",
    "\n",
    "path = 'C:\\\\apps_backup\\\\testfolder2\\\\'    # <--- Specify the folder you wish to upload\n",
    "                                                 # Windows users: apply double slashes, e.g. 'C:\\\\apps\\\\testfolder2\\\\' \n",
    "\n",
    "# r=root, d=directories,f = files\n",
    "for r, d, f in os.walk(path):\n",
    "    files = []\n",
    "    if r == path:\n",
    "        for file in f:\n",
    "            files.append(os.path.join(r, file))\n",
    "            print('Uploading {}'.format(file))\n",
    "        container.upload(files, overwrite = True)\n",
    "    else:\n",
    "        p2 = Path(r)\n",
    "        subdirname = p2.relative_to(path)\n",
    "        subdirmultiple = subdirname.parts \n",
    "        adjustpath = str(PurePosixPath(*subdirmultiple))\n",
    "        adjustpath += '/'\n",
    "        for file in f:\n",
    "            files.append(os.path.join(r, file))\n",
    "            print('Uploading {}'.format(file))\n",
    "        container.upload(files, remote_directory=adjustpath, overwrite=True)\n",
    "        "
   ]
  },
  {
   "cell_type": "code",
   "execution_count": 6,
   "metadata": {},
   "outputs": [
    {
     "name": "stdout",
     "output_type": "stream",
     "text": [
     ]
    }
   ],
   "source": [
    "# Check uploaded data\n",
    "number_of_files = container.count()\n",
    "size_in_MB = container.size(\"MB\")\n",
    "\n",
    "print(user_container + ' container contents:')\n",
    "print('---')\n",
    "print('Number of files: ' + str(number_of_files))\n",
    "print('Total size of data uploaded: ' + str(round(size_in_MB,2)) + ' Mb')\n",
    "\n",
    "print('---')\n",
    "print('File and folder list:')\n",
    "\n",
    "files = container.list()\n",
    "\n",
    "for f in files:\n",
    "    print(' - ' + str(f)[1:-1])\n",
    "    \n",
    "print('---')"
   ]
  }
 ],
 "metadata": {
  "kernelspec": {
   "display_name": "Python 3",
   "language": "python",
   "name": "python3"
  },
  "language_info": {
   "codemirror_mode": {
    "name": "ipython",
    "version": 3
   },
   "file_extension": ".py",
   "mimetype": "text/x-python",
   "name": "python",
   "nbconvert_exporter": "python",
   "pygments_lexer": "ipython3",
   "version": "3.8.0"
  }
 },
 "nbformat": 4,
 "nbformat_minor": 4
}
