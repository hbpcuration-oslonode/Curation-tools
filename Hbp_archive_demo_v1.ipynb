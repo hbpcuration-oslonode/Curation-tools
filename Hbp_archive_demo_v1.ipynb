{
 "cells": [
  {
   "cell_type": "code",
   "execution_count": 1,
   "metadata": {},
   "outputs": [],
   "source": [
    "from hbp_archive import Container, PublicContainer, Project, Archive\n",
    "import os\n",
    "from pathlib import Path, PurePosixPath\n",
    "\n",
    "### Please see https://hbp-archive.readthedocs.io/en/latest/ for additional details"
   ]
  },
  {
   "cell_type": "code",
   "execution_count": 4,
   "metadata": {},
   "outputs": [
    {
     "name": "stdout",
     "output_type": "stream",
     "text": [
      "Please enter your password:\n",
      "Password: ········\n"
     ]
    }
   ],
   "source": [
    "subproject = 'bp00sp01' #<---Put in your subprojectnumber\n",
    "usernumber = 'bp000222'#<-- Put in you usernumber\n",
    "\n",
    "\n",
    "print('Please enter your password:')\n",
    "SP_a = Project(subproject, usernumber)"
   ]
  },
  {
   "cell_type": "code",
   "execution_count": null,
   "metadata": {},
   "outputs": [],
   "source": [
    "\n",
    "user_container = 'test_container' #<-- Specify the name of your container\n",
    "container = SP_a.get_container(user_container)\n",
    "\n",
    "## If you do not know the name of your container:\n",
    "##SP_a.containers\n",
    "\n",
    "\n",
    "path = 'C:\\\\apps_backup\\\\testfolder2\\\\' #<-- Specify the folder you wish to upload (For windows-users apply double slashes). \n",
    "                                 #E.g. 'C:\\\\apps\\\\testfolder2\\\\' \n",
    "\n",
    "# r=root, d=directories,f = files\n",
    "for r, d, f in os.walk(path):\n",
    "    files = []\n",
    "    if r == path:\n",
    "        for file in f:\n",
    "            files.append(os.path.join(r, file))\n",
    "            print('Uploading {}'.format(file))\n",
    "        container.upload(files, overwrite = True)\n",
    "    else:\n",
    "        p2 = Path(r)\n",
    "        subdirname = p2.relative_to(path)\n",
    "        subdirmultiple = subdirname.parts \n",
    "        adjustpath = str(PurePosixPath(*subdirmultiple))\n",
    "        adjustpath += '/'\n",
    "        for file in f:\n",
    "            files.append(os.path.join(r, file))\n",
    "            print('Uploading {}'.format(file))\n",
    "        container.upload(files, remote_directory=adjustpath, overwrite=True)\n",
    "        "
   ]
  },
  {
   "cell_type": "code",
   "execution_count": null,
   "metadata": {},
   "outputs": [],
   "source": []
  }
 ],
 "metadata": {
  "kernelspec": {
   "display_name": "Python 3",
   "language": "python",
   "name": "python3"
  },
  "language_info": {
   "codemirror_mode": {
    "name": "ipython",
    "version": 3
   },
   "file_extension": ".py",
   "mimetype": "text/x-python",
   "name": "python",
   "nbconvert_exporter": "python",
   "pygments_lexer": "ipython3",
   "version": "3.7.3"
  }
 },
 "nbformat": 4,
 "nbformat_minor": 2
}
